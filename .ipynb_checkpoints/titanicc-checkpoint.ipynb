{
 "cells": [
  {
   "cell_type": "markdown",
   "metadata": {},
   "source": [
    "### Prereqs\n",
    "- Python\n",
    "- Answer should be in Jupyter Notebook format to show how you get the answers.\n",
    "- A git repo for the answers assets.\n",
    "\n",
    "## Can You Survive The Titanic?\n",
    "1. Clean the dataset provided in `titanic_train_data.csv`\n",
    "2. Describe the new dataset.\n",
    "3. Plot the Age Distribution and Fare Distribution.\n",
    "4. Predict the survival rate of a 23 years old female.\n",
    "\n",
    "## Getting The Guts From A Fairy Tale\n",
    "1. Clean `caroll-alice.txt` as clean as you can.\n",
    "2. Using `stopwords.txt`, find the most common words (50 and above) with the number of occurences in the new dataset, for example \"Queen, 300\".\n"
   ]
  },
  {
   "cell_type": "markdown",
   "metadata": {},
   "source": [
    "## Can You Survive The Titanic?\n",
    "1. Clean the dataset provided in `titanic_train_data.csv`\n"
   ]
  },
  {
   "cell_type": "code",
   "execution_count": null,
   "metadata": {},
   "outputs": [],
   "source": [
    "import numpy as np\n",
    "import pandas as pd\n",
    "\n",
    "in_file = 'titanic_train_data.csv'\n",
    "full_data = pd.read_csv(in_file)\n",
    "\n",
    "\n",
    "\n"
   ]
  }
 ],
 "metadata": {
  "kernelspec": {
   "display_name": "Python 3",
   "language": "python",
   "name": "python3"
  },
  "language_info": {
   "codemirror_mode": {
    "name": "ipython",
    "version": 3
   },
   "file_extension": ".py",
   "mimetype": "text/x-python",
   "name": "python",
   "nbconvert_exporter": "python",
   "pygments_lexer": "ipython3",
   "version": "3.6.5"
  }
 },
 "nbformat": 4,
 "nbformat_minor": 2
}
